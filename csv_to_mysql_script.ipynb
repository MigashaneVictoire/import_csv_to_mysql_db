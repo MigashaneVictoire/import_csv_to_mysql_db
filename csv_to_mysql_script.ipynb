{
 "cells": [
  {
   "cell_type": "markdown",
   "id": "7da8bcda-5e96-4d0c-8d06-1caf79fc4045",
   "metadata": {},
   "source": [
    "# Save csv files to mysql database"
   ]
  },
  {
   "cell_type": "code",
   "execution_count": 1,
   "id": "f9422c2f-e171-4e5f-80b3-42d48d9f89c0",
   "metadata": {
    "tags": []
   },
   "outputs": [],
   "source": [
    "# pip install mysql-connector-python"
   ]
  },
  {
   "cell_type": "code",
   "execution_count": 2,
   "id": "f165a942-7901-4a96-9a23-1cb1221d92f0",
   "metadata": {
    "tags": []
   },
   "outputs": [],
   "source": [
    "import pandas as pd\n",
    "import seaborn as sns\n",
    "import env\n",
    "\n",
    "# connect to mysql\n",
    "import mysql.connector as mysql\n",
    "from mysql.connector import Error"
   ]
  },
  {
   "cell_type": "markdown",
   "id": "a447367f-e643-4231-8bf2-e0fcf3044eef",
   "metadata": {},
   "source": [
    "## Cridetials"
   ]
  },
  {
   "cell_type": "code",
   "execution_count": 3,
   "id": "020e64bc-fe37-4949-9f5c-11cb0343d633",
   "metadata": {
    "tags": []
   },
   "outputs": [],
   "source": [
    "db_name, endpoint, username, passcode = env.aws_vmb_db()"
   ]
  },
  {
   "cell_type": "markdown",
   "id": "81a1b303-257b-4ef2-b870-519a01862e7a",
   "metadata": {},
   "source": [
    "## Get data"
   ]
  },
  {
   "cell_type": "code",
   "execution_count": 4,
   "id": "bbc2baaf-0eb1-44bb-9ca2-1c715823dfc9",
   "metadata": {
    "tags": []
   },
   "outputs": [
    {
     "data": {
      "text/html": [
       "<div>\n",
       "<style scoped>\n",
       "    .dataframe tbody tr th:only-of-type {\n",
       "        vertical-align: middle;\n",
       "    }\n",
       "\n",
       "    .dataframe tbody tr th {\n",
       "        vertical-align: top;\n",
       "    }\n",
       "\n",
       "    .dataframe thead th {\n",
       "        text-align: right;\n",
       "    }\n",
       "</style>\n",
       "<table border=\"1\" class=\"dataframe\">\n",
       "  <thead>\n",
       "    <tr style=\"text-align: right;\">\n",
       "      <th></th>\n",
       "      <th>sepal_length</th>\n",
       "      <th>sepal_width</th>\n",
       "      <th>petal_length</th>\n",
       "      <th>petal_width</th>\n",
       "      <th>species</th>\n",
       "    </tr>\n",
       "  </thead>\n",
       "  <tbody>\n",
       "    <tr>\n",
       "      <th>0</th>\n",
       "      <td>5.1</td>\n",
       "      <td>3.5</td>\n",
       "      <td>1.4</td>\n",
       "      <td>0.2</td>\n",
       "      <td>setosa</td>\n",
       "    </tr>\n",
       "    <tr>\n",
       "      <th>1</th>\n",
       "      <td>4.9</td>\n",
       "      <td>3.0</td>\n",
       "      <td>1.4</td>\n",
       "      <td>0.2</td>\n",
       "      <td>setosa</td>\n",
       "    </tr>\n",
       "    <tr>\n",
       "      <th>2</th>\n",
       "      <td>4.7</td>\n",
       "      <td>3.2</td>\n",
       "      <td>1.3</td>\n",
       "      <td>0.2</td>\n",
       "      <td>setosa</td>\n",
       "    </tr>\n",
       "    <tr>\n",
       "      <th>3</th>\n",
       "      <td>4.6</td>\n",
       "      <td>3.1</td>\n",
       "      <td>1.5</td>\n",
       "      <td>0.2</td>\n",
       "      <td>setosa</td>\n",
       "    </tr>\n",
       "    <tr>\n",
       "      <th>4</th>\n",
       "      <td>5.0</td>\n",
       "      <td>3.6</td>\n",
       "      <td>1.4</td>\n",
       "      <td>0.2</td>\n",
       "      <td>setosa</td>\n",
       "    </tr>\n",
       "  </tbody>\n",
       "</table>\n",
       "</div>"
      ],
      "text/plain": [
       "   sepal_length  sepal_width  petal_length  petal_width species\n",
       "0           5.1          3.5           1.4          0.2  setosa\n",
       "1           4.9          3.0           1.4          0.2  setosa\n",
       "2           4.7          3.2           1.3          0.2  setosa\n",
       "3           4.6          3.1           1.5          0.2  setosa\n",
       "4           5.0          3.6           1.4          0.2  setosa"
      ]
     },
     "execution_count": 4,
     "metadata": {},
     "output_type": "execute_result"
    }
   ],
   "source": [
    "df = sns.load_dataset(\"iris\")\n",
    "df.head()"
   ]
  },
  {
   "cell_type": "code",
   "execution_count": 11,
   "id": "74469ad2-8009-4848-9355-9323599f5b6d",
   "metadata": {
    "tags": []
   },
   "outputs": [],
   "source": [
    "# # Electric Vehicle Population data\n",
    "# df = pd.read_csv(\"https://data.wa.gov/api/views/f6w7-q2d2/rows.csv?accessType=DOWNLOAD\")\n",
    "# df.head()"
   ]
  },
  {
   "cell_type": "markdown",
   "id": "c92ad964-de21-4781-b0a1-f63a7710ab26",
   "metadata": {},
   "source": [
    "## Connect to the MySQL and create a database"
   ]
  },
  {
   "cell_type": "code",
   "execution_count": 36,
   "id": "d60715ba-8160-4b4c-a84f-8c95869fd752",
   "metadata": {
    "tags": []
   },
   "outputs": [],
   "source": [
    "db_name = \"iris_db\"\n",
    "df_name = \"iris\""
   ]
  },
  {
   "cell_type": "code",
   "execution_count": 51,
   "id": "ccf553a4-b13e-4620-afc3-39b3c3e1ae4e",
   "metadata": {},
   "outputs": [
    {
     "name": "stdout",
     "output_type": "stream",
     "text": [
      "Could not connect to MySQL: 1007 (HY000): Can't create database 'iris_db'; database exists\n",
      "Using iris_db...!\n",
      "iris table is created....\n"
     ]
    }
   ],
   "source": [
    "# Create a connection to MySQL server using provided credentials\n",
    "connection = mysql.connect(host=endpoint, user=username, password=passcode)\n",
    "create_table_query = f\"\"\"CREATE TABLE IF NOT EXISTS {df_name} (sepal_length FLOAT(2,1)\n",
    "                        NOT NULL, sepal_width FLOAT(2,1) NOT NULL,\n",
    "                        petal_length FLOAT(2,1) NOT NULL,\n",
    "                        petal_width FLOAT(2,1),species CHAR(11)NOT\n",
    "                        NULL)\"\"\"\n",
    "cursor = None\n",
    "\n",
    "try:\n",
    "    \n",
    "    # Check if the connection is established\n",
    "    if connection.is_connected():\n",
    "        cursor = connection.cursor()  # Creating a cursor object to perform actions\n",
    "        # Execute SQL query to create a new database using the provided name\n",
    "        cursor.execute(f\"CREATE DATABASE {db_name};\")\n",
    "        # Confirming the successful creation of the database\n",
    "        print(f\"{db_name} database is created\")\n",
    "        \n",
    "except Error as e:\n",
    "    # Handling any errors that might occur during the connection or database creation\n",
    "    print(\"Could not connect to MySQL:\", e)\n",
    "\n",
    "try:\n",
    "    if connection.is_connected():\n",
    "        cursor.execute(f\"USE {db_name};\")\n",
    "        print(f\"Using {db_name}...!\")\n",
    "        \n",
    "        cursor.execute(create_table_query)\n",
    "        print(f\"{df_name} table is created....\")\n",
    "except Error as e:\n",
    "    print(\"Could not create Use datqbase\")"
   ]
  },
  {
   "cell_type": "markdown",
   "id": "4e78e545-aba7-4140-9f8c-2b999c18609b",
   "metadata": {},
   "source": [
    "## Delete a database"
   ]
  },
  {
   "cell_type": "code",
   "execution_count": 45,
   "id": "4b4082a4-eae7-4f6d-bace-c34979c606aa",
   "metadata": {
    "tags": []
   },
   "outputs": [
    {
     "name": "stdout",
     "output_type": "stream",
     "text": [
      "iris_db database has been droped\n"
     ]
    }
   ],
   "source": [
    "def drop_db(db_name:str):\n",
    "    \"\"\"\n",
    "    Objective: To completly delete a database from MySQL server\n",
    "    \n",
    "    Parameter\n",
    "    db_name: database to be deleted\n",
    "    \n",
    "    \"\"\"\n",
    "    try:\n",
    "        # Create a connection to MySQL server using provided credentials\n",
    "        connection = mysql.connect(host=endpoint, user=username, password=passcode)\n",
    "\n",
    "        # Check if the connection is established\n",
    "        if connection.is_connected():\n",
    "            action = connection.cursor()  # Creating a cursor object to perform actions\n",
    "            # Execute SQL query to remove a database using the provided name\n",
    "            action.execute(f\"DROP DATABASE {db_name};\")\n",
    "            # Confirming the successful creation of the database\n",
    "            print(f\"{db_name} database has been droped\")\n",
    "\n",
    "    except Error as e:\n",
    "        # Handling any errors that might occur during the connection or database creation\n",
    "        print(\"Could not connect to MySQL:\", e)\n",
    "\n",
    "drop_db(db_name)"
   ]
  },
  {
   "cell_type": "markdown",
   "id": "98308754-bab8-43be-8489-91dee4bc13be",
   "metadata": {
    "tags": []
   },
   "source": [
    "## Delete table in database"
   ]
  },
  {
   "cell_type": "code",
   "execution_count": 50,
   "id": "c0c5ca13-c53e-4130-b550-1c241884e15a",
   "metadata": {
    "tags": []
   },
   "outputs": [
    {
     "name": "stdout",
     "output_type": "stream",
     "text": [
      "iris table has been droped\n"
     ]
    }
   ],
   "source": [
    "def drop_table(df_name:str, db_name:str = db_name):\n",
    "    \"\"\"\n",
    "    Objective: To completly delete a database from MySQL server\n",
    "    \n",
    "    Parameter\n",
    "    df_name: dataframe/table to be deleted from database\n",
    "    db_name: database to be deleted\n",
    "    \n",
    "    \"\"\"\n",
    "\n",
    "    try:\n",
    "        # Create a connection to MySQL server using provided credentials\n",
    "        connection = mysql.connect(host=endpoint, user=username, password=passcode)\n",
    "\n",
    "        # Check if the connection is established\n",
    "        if connection.is_connected():\n",
    "            action = connection.cursor()  # Creating a cursor object to perform actions\n",
    "            action.execute(f\"USE {db_name};\")\n",
    "            # Execute SQL query to remove a database using the provided name\n",
    "            action.execute(f\"DROP TABLE {df_name};\")\n",
    "            # Confirming the successful creation of the database\n",
    "            print(f\"{df_name} table has been droped\")\n",
    "\n",
    "    except Error as e:\n",
    "        # Handling any errors that might occur during the connection or database creation\n",
    "        print(\"Could not connect to MySQL:\", e)\n",
    "\n",
    "drop_table(df_name)"
   ]
  },
  {
   "cell_type": "code",
   "execution_count": null,
   "id": "ad6598eb-1c23-4cce-9982-0fee7d6e1fae",
   "metadata": {},
   "outputs": [],
   "source": []
  }
 ],
 "metadata": {
  "kernelspec": {
   "display_name": "Python 3 (ipykernel)",
   "language": "python",
   "name": "python3"
  },
  "language_info": {
   "codemirror_mode": {
    "name": "ipython",
    "version": 3
   },
   "file_extension": ".py",
   "mimetype": "text/x-python",
   "name": "python",
   "nbconvert_exporter": "python",
   "pygments_lexer": "ipython3",
   "version": "3.11.5"
  }
 },
 "nbformat": 4,
 "nbformat_minor": 5
}
